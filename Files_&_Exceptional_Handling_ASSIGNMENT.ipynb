{
 "cells": [
  {
   "cell_type": "markdown",
   "metadata": {},
   "source": [
    "# Files & Exceptional Handling ASSIGNMENT\n",
    "## QAZI ZAMIN\n",
    "## PWSKILLS"
   ]
  },
  {
   "cell_type": "markdown",
   "metadata": {},
   "source": [
    "# Assignment Questions"
   ]
  },
  {
   "cell_type": "markdown",
   "metadata": {},
   "source": [
    "### Q1. Discuss the scenarios where multithreading is preferable to multiprocessing and scenarios where multiprocessing is a better choice."
   ]
  },
  {
   "cell_type": "markdown",
   "metadata": {},
   "source": [
    "- Multithreading and multiprocessing are both concurrency models used to improve performance in applications, but they are suitable for different scenarios. \n",
    "\n",
    "### When to Use Multithreading?\n",
    "- 1. I/O-Bound Tasks:\n",
    "- Multithreading is ideal for applications that spend a lot of time waiting for I/O operations (like file reading/writing, network requests). Threads can be used to handle multiple I/O tasks concurrently, keeping the CPU busy while waiting for I/O.\n",
    "\n",
    "- 2. Shared Memory:\n",
    "- If the application requires shared data or state, multithreading allows easy access to shared memory space, which can improve performance without the overhead of inter-process communication (IPC).\n",
    "\n",
    "- 3. Low Overhead:\n",
    "- Threads have lower overhead compared to processes because they share the same memory space. This makes creating and destroying threads quicker and less resource-intensive.\n",
    "\n",
    "- 4. Lightweight Tasks:\n",
    "- For lightweight tasks that don’t require heavy CPU computation, multithreading can be more efficient as it allows multiple tasks to run concurrently without the overhead of multiple processes.\n",
    "\n",
    "- 5. Real-Time Applications:\n",
    "- Applications that require quick context switching and responsiveness, such as UI applications, benefit from multithreading.\n",
    "\n",
    "### When to Use Multiprocessing?\n",
    "\n",
    "- 1. CPU-Bound Tasks:\n",
    "- Multiprocessing is preferable for CPU-intensive tasks, as it allows the workload to be distributed across multiple CPU cores. Each process runs in its own memory space, which can lead to better performance in computationally heavy tasks.\n",
    "\n",
    "- 2. Isolation and Stability:\n",
    "- Processes are isolated from each other, which can enhance stability. If one process crashes, it doesn’t affect the others, making multiprocessing a better choice for applications requiring high reliability.\n",
    "\n",
    "- 3. Avoiding GIL (Global Interpreter Lock):\n",
    "- In languages like Python, the GIL can limit the effectiveness of multithreading for CPU-bound tasks. Multiprocessing circumvents this limitation by using separate memory spaces and processes.\n",
    "\n",
    "- 4. Large Memory Requirements:\n",
    "- When tasks require a lot of memory and you need to avoid the issues of memory contention, multiprocessing can be more effective as each process has its own memory space.\n",
    "\n",
    "- 5.Parallel Execution:\n",
    "- If the tasks can be completely independent and need to run simultaneously, multiprocessing can take full advantage of multi-core processors.\n",
    "\n",
    "### IN GENERAL:\n",
    "\n",
    "- Choose Multithreading for I/O-bound tasks, applications needing shared memory access, or situations where low overhead and responsiveness are crucial.\n",
    "\n",
    "- Choose Multiprocessing for CPU-bound tasks, applications requiring stability and isolation, or when memory-intensive operations are involved."
   ]
  },
  {
   "cell_type": "markdown",
   "metadata": {},
   "source": [
    "### Q2. Describe what a process pool is and how it helps in managing multiple processes efficiently."
   ]
  },
  {
   "cell_type": "markdown",
   "metadata": {},
   "source": [
    "- A process pool is a collection of pre-instantiated processes that are managed by a process pool manager. This concept is particularly useful for improving the efficiency of applications that need to execute multiple tasks concurrently, especially when dealing with CPU-bound operations.\n",
    "\n",
    "- A process pool helps manage multiple processes efficiently through the following mechanisms:\n",
    "\n",
    "- 1. Resource Reuse: Instead of creating and destroying processes for each task, a process pool maintains a fixed number of pre-created processes that can be reused, reducing the overhead associated with process management.\n",
    "\n",
    "- 2. Load Balancing: The pool manager distributes tasks evenly among the available processes, ensuring that no single process is overwhelmed while others are idle.\n",
    "\n",
    "- 3. Controlled Concurrency: By limiting the number of active processes, a process pool helps prevent resource exhaustion, ensuring that the system remains responsive and stable.\n",
    "\n",
    "- 4. Reduced Latency: Reusing processes decreases the time spent in process creation and teardown, allowing tasks to start executing more quickly.\n",
    "\n",
    "- 5. Simplified Management: The pool abstracts the complexity of managing individual processes, providing a straightforward interface for task submission and result retrieval.\n",
    "\n",
    "- 6. Error Handling: If a process fails, the pool can automatically restart it or reassign the task, improving overall reliability.\n",
    "\n",
    "- Overall, a process pool optimizes resource usage, improves task execution speed, and simplifies the management of concurrent processes."
   ]
  },
  {
   "cell_type": "markdown",
   "metadata": {},
   "source": [
    "### Q3. Explain what multiprocessing is and why it is used in Python programs."
   ]
  },
  {
   "cell_type": "markdown",
   "metadata": {},
   "source": [
    "- Multiprocessing is a programming technique that allows the execution of multiple processes simultaneously, taking advantage of multiple CPU cores to perform tasks in parallel. \n",
    "\n",
    "- Multiprocessing in Python allows you to run multiple processes at the same time, making use of multiple CPU cores. This helps to speed up programs, especially those that require heavy computation.\n",
    "\n",
    "### why is it used in python programs?\n",
    "\n",
    "- 1. True Parallelism: Each process runs independently in its own memory space, so they can execute tasks simultaneously without being limited by Python’s Global Interpreter Lock (GIL).\n",
    "\n",
    "- 2. Improved Performance: For CPU-intensive tasks (like data processing or calculations), using multiple processes can significantly reduce execution time.\n",
    "\n",
    "- 3. Isolation: If one process crashes, it doesn’t affect others, which makes the program more stable.\n",
    "\n",
    "- 4. Data Sharing: Python provides ways for processes to communicate and share data, such as through queues or shared memory.\n",
    "\n",
    "### why use it?\n",
    "\n",
    "- Speed: Makes programs faster by doing many tasks at once.\n",
    "- Efficiency: Uses system resources better, especially on multi-core machines.\n",
    "- Simplicity: Easier to manage separate processes rather than complicated thread handling."
   ]
  },
  {
   "cell_type": "markdown",
   "metadata": {},
   "source": [
    "### Q4. Write a Python program using multithreading where one thread adds numbers to a list, and another thread removes numbers from the list. Implement a mechanism to avoid race conditions using threading.Lock."
   ]
  },
  {
   "cell_type": "code",
   "execution_count": 2,
   "metadata": {},
   "outputs": [
    {
     "name": "stdout",
     "output_type": "stream",
     "text": [
      "Added 21 to the list: [21]\n",
      "Added 86 to the list: [21, 86]\n",
      "Removed 21 from the list: [86]\n",
      "Added 12 to the list: [86, 12]\n",
      "Removed 86 from the list: [12]\n",
      "Added 50 to the list: [12, 50]\n",
      "Added 53 to the list: [12, 50, 53]\n",
      "Removed 12 from the list: [50, 53]\n",
      "Removed 50 from the list: [53]\n",
      "Added 48 to the list: [53, 48]\n",
      "Removed 53 from the list: [48]\n",
      "Removed 48 from the list: []\n",
      "Added 16 to the list: [16]\n",
      "Removed 16 from the list: []\n",
      "List is empty, nothing to remove.\n",
      "Added 41 to the list: [41]\n",
      "Removed 41 from the list: []\n",
      "Added 86 to the list: [86]\n",
      "Added 5 to the list: [86, 5]\n",
      "Removed 86 from the list: [5]\n",
      "Final list: [5]\n"
     ]
    }
   ],
   "source": [
    "import threading\n",
    "import time\n",
    "import random\n",
    "\n",
    "# Shared list and a lock\n",
    "shared_list = []\n",
    "lock = threading.Lock()\n",
    "\n",
    "# Function to add numbers to the list\n",
    "def add_numbers():\n",
    "    for i in range(10):\n",
    "        time.sleep(random.uniform(0.1, 0.5))  # Simulate work\n",
    "        number = random.randint(1, 100)\n",
    "        with lock:  # Acquire the lock before modifying the shared list\n",
    "            shared_list.append(number)\n",
    "            print(f'Added {number} to the list: {shared_list}')\n",
    "\n",
    "# Function to remove numbers from the list\n",
    "def remove_numbers():\n",
    "    for i in range(10):\n",
    "        time.sleep(random.uniform(0.1, 0.5))  # Simulate work\n",
    "        with lock:  # Acquire the lock before modifying the shared list\n",
    "            if shared_list:\n",
    "                number = shared_list.pop(0)  # Remove the first number\n",
    "                print(f'Removed {number} from the list: {shared_list}')\n",
    "            else:\n",
    "                print('List is empty, nothing to remove.')\n",
    "\n",
    "# Create threads\n",
    "add_thread = threading.Thread(target=add_numbers)\n",
    "remove_thread = threading.Thread(target=remove_numbers)\n",
    "\n",
    "# Start threads\n",
    "add_thread.start()\n",
    "remove_thread.start()\n",
    "\n",
    "# Wait for both threads to complete\n",
    "add_thread.join()\n",
    "remove_thread.join()\n",
    "\n",
    "print('Final list:', shared_list)"
   ]
  },
  {
   "cell_type": "markdown",
   "metadata": {},
   "source": [
    "### Q5. Describe the methods and tools available in Python for safely sharing data between threads and processes."
   ]
  },
  {
   "cell_type": "markdown",
   "metadata": {},
   "source": [
    "- In Python, there are several methods and tools for safely sharing data between threads and processes, each suited for different concurrency models.\n",
    "\n",
    "### Threading:\n",
    "- Use Lock, RLock, Condition, Semaphore, Event, and Queue for safe data sharing between threads.\n",
    "### Multiprocessing:\n",
    "- Use Queue, Pipe, Manager, Lock, Value, and Array for safe data sharing between processes.\n",
    "\n",
    "### Threading\n",
    "\n",
    "- 1. threading.Lock:\n",
    "- A basic locking mechanism that prevents multiple threads from accessing shared resources simultaneously. Use acquire() to lock and release() to unlock.\n",
    "\n",
    "- 2. threading.RLock:\n",
    "- A reentrant lock that allows a thread to acquire the same lock multiple times without blocking. Useful in cases where a thread may need to enter a critical section multiple times.\n",
    "\n",
    "- 3. threading.Condition:\n",
    "- A synchronization primitive that allows threads to wait for certain conditions to be met before continuing. Useful for producer-consumer scenarios.\n",
    "\n",
    "- 4. threading.Semaphore:\n",
    "- A counter that controls access to a shared resource by a fixed number of threads. It can limit the number of concurrent accesses.\n",
    "\n",
    "- 5. threading.Event:\n",
    "- A simple way to signal between threads. One thread can set an event that other threads can wait for.\n",
    "\n",
    "- 6. Queue.Queue:\n",
    "- A thread-safe queue that allows safe communication between threads. It handles locking internally, making it easy to add and remove items without worrying about race conditions.\n",
    "\n",
    "### MultiProcessing\n",
    "\n",
    "- 1. multiprocessing.Queue:\n",
    "- Similar to Queue.Queue, but designed for inter-process communication. It allows safe sharing of data between processes.\n",
    "\n",
    "- 2. multiprocessing.Pipe:\n",
    "- A two-way communication channel between processes. It can be used to send messages or data back and forth.\n",
    "\n",
    "- 3. multiprocessing.Manager:\n",
    "- A way to create shared objects like lists, dictionaries, and arrays that can be accessed by multiple processes. It handles synchronization internally.\n",
    "\n",
    "- 4. multiprocessing.Lock:\n",
    "- Similar to threading.Lock, it provides a locking mechanism to prevent simultaneous access to shared resources between processes.\n",
    "\n",
    "- 5. multiprocessing.Value:\n",
    "- A way to create shared data of a specific type (like int or Array) that can be safely modified by multiple processes.\n",
    "\n",
    "- 6. multiprocessing.Array:\n",
    "- A shared array that allows multiple processes to read and write data. It provides a way to share large amounts of data efficiently."
   ]
  },
  {
   "cell_type": "markdown",
   "metadata": {},
   "source": [
    "### Q6.  Discuss why it’s crucial to handle exceptions in concurrent programs and the techniques available for doing so."
   ]
  },
  {
   "cell_type": "markdown",
   "metadata": {},
   "source": [
    "- Handling exceptions in concurrent programs is crucial for several reasons:\n",
    "\n",
    "### 1. Stability: \n",
    "- Unhandled exceptions can cause an entire application or process to crash, leading to loss of data or inconsistent application states. Proper handling ensures that the application remains stable.\n",
    "\n",
    "### 2. Resource Management: \n",
    "- Concurrent programs often involve shared resources (like files, databases, or memory). If an exception occurs and is not handled, resources may not be released properly, leading to resource leaks or deadlocks.\n",
    "\n",
    "### 3. Debugging: \n",
    "- In concurrent environments, tracking down the source of an error can be challenging. Proper exception handling helps to log errors meaningfully and isolate the problem for easier debugging.\n",
    "\n",
    "### 4. Graceful Recovery: \n",
    "- By handling exceptions, programs can recover from errors gracefully, allowing them to continue running or retrying operations instead of terminating unexpectedly.\n",
    "\n",
    "### 5. User Experience: \n",
    "- Users benefit from well-managed error handling, as it provides meaningful feedback instead of abrupt crashes or unresponsive applications.\n",
    "\n",
    "# Techniques for Handling Exceptions in Concurrent Programs...\n",
    "\n",
    "### 1. Try-Except Blocks:\n",
    "- Use try-except blocks around the code that may raise exceptions. This allows for catching specific exceptions and handling them appropriately.\n",
    "\n",
    "### 2. Custom Exception Classes:\n",
    "- Define custom exceptions to better categorize and handle specific errors in concurrent operations.\n",
    "\n",
    "### 3. Logging:\n",
    "- Implement logging within exception handlers to capture error details, including the thread or process context. This can assist in diagnosing issues later.\n",
    "\n",
    "### 4. Thread/Process-Specific Handling:\n",
    "- In multithreading or multiprocessing, each thread or process can have its own exception handling strategy. Use threading.Thread or multiprocessing.Process’s exception handling to capture errors specific to that execution context.\n",
    "\n",
    "### 5. Future Objects and Callbacks:\n",
    "- In concurrent futures (using concurrent.futures), you can use Future objects to check for exceptions after tasks complete. You can define callbacks to handle exceptions in a centralized way.\n",
    "\n",
    "### 6. Timeouts:\n",
    "\n",
    "- Use timeouts in concurrent operations to handle cases where operations take too long, allowing you to catch and manage potential blocking operations.\n",
    "\n",
    "\n",
    "## to be precise:\n",
    "- Handling exceptions in concurrent programs is essential for stability, resource management, debugging, user experience, and graceful recovery. By employing techniques like try-except blocks, custom exceptions, logging, thread/process-specific handling, and utilizing futures, developers can effectively manage exceptions in concurrent environments, leading to more robust applications."
   ]
  },
  {
   "cell_type": "markdown",
   "metadata": {},
   "source": [
    "### Q7. Create a program that uses a thread pool to calculate the factorial of numbers from 1 to 10 concurrently. Use concurrent.futures.ThreadPoolExecutor to manage the threads."
   ]
  },
  {
   "cell_type": "code",
   "execution_count": 3,
   "metadata": {},
   "outputs": [
    {
     "name": "stdout",
     "output_type": "stream",
     "text": [
      "Factorial of 4 is 24\n",
      "Factorial of 9 is 362880\n",
      "Factorial of 7 is 5040\n",
      "Factorial of 10 is 3628800\n",
      "Factorial of 5 is 120\n",
      "Factorial of 2 is 2\n",
      "Factorial of 3 is 6\n",
      "Factorial of 6 is 720\n",
      "Factorial of 1 is 1\n",
      "Factorial of 8 is 40320\n",
      "All calculations completed.\n"
     ]
    }
   ],
   "source": [
    "import concurrent.futures\n",
    "import math\n",
    "\n",
    "# Function to calculate factorial\n",
    "def calculate_factorial(n):\n",
    "    return math.factorial(n)\n",
    "\n",
    "# Main function to execute the thread pool\n",
    "def main():\n",
    "    numbers = list(range(1, 11))  # Numbers from 1 to 10\n",
    "    results = []\n",
    "\n",
    "    # Create a thread pool\n",
    "    with concurrent.futures.ThreadPoolExecutor() as executor:\n",
    "        # Map the calculate_factorial function to the numbers\n",
    "        futures = {executor.submit(calculate_factorial, num): num for num in numbers}\n",
    "\n",
    "        # Process the results as they complete\n",
    "        for future in concurrent.futures.as_completed(futures):\n",
    "            num = futures[future]\n",
    "            try:\n",
    "                result = future.result()\n",
    "                results.append((num, result))\n",
    "                print(f'Factorial of {num} is {result}')\n",
    "            except Exception as e:\n",
    "                print(f'Error calculating factorial of {num}: {e}')\n",
    "\n",
    "    print('All calculations completed.')\n",
    "\n",
    "if __name__ == '__main__':\n",
    "    main()\n"
   ]
  },
  {
   "cell_type": "markdown",
   "metadata": {},
   "source": [
    "### Q8. Create a Python program that uses multiprocessing.Pool to compute the square of numbers from 1 to 10 in parallel. Measure the time taken to perform this computation using a pool of different sizes (e.g., 2, 4, 8 processes)."
   ]
  },
  {
   "cell_type": "code",
   "execution_count": null,
   "metadata": {},
   "outputs": [],
   "source": [
    "import multiprocessing\n",
    "import time\n",
    "\n",
    "# Function to compute the square of a number\n",
    "def compute_square(n):\n",
    "    return n * n\n",
    "\n",
    "# Function to run the computation with a given pool size\n",
    "def run_pool(pool_size):\n",
    "    numbers = list(range(1, 11))  # Numbers from 1 to 10\n",
    "    with multiprocessing.Pool(pool_size) as pool:\n",
    "        start_time = time.time()  # Start time\n",
    "        results = pool.map(compute_square, numbers)  # Compute squares in parallel\n",
    "        end_time = time.time()  # End time\n",
    "    return results, end_time - start_time\n",
    "\n",
    "def main():\n",
    "    pool_sizes = [2, 4, 8]  # Different pool sizes to test\n",
    "    for size in pool_sizes:\n",
    "        results, duration = run_pool(size)\n",
    "        print(f'Pool size: {size}, Results: {results}, Time taken: {duration:.4f} seconds')\n",
    "\n",
    "if __name__ == '__main__':\n",
    "    main()\n"
   ]
  },
  {
   "cell_type": "code",
   "execution_count": null,
   "metadata": {},
   "outputs": [],
   "source": []
  }
 ],
 "metadata": {
  "kernelspec": {
   "display_name": "venv",
   "language": "python",
   "name": "python3"
  },
  "language_info": {
   "codemirror_mode": {
    "name": "ipython",
    "version": 3
   },
   "file_extension": ".py",
   "mimetype": "text/x-python",
   "name": "python",
   "nbconvert_exporter": "python",
   "pygments_lexer": "ipython3",
   "version": "3.11.9"
  }
 },
 "nbformat": 4,
 "nbformat_minor": 2
}
